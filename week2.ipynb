{
 "cells": [
  {
   "cell_type": "code",
   "execution_count": 2,
   "id": "8b17bc64",
   "metadata": {},
   "outputs": [
    {
     "name": "stdout",
     "output_type": "stream",
     "text": [
      "The value of A is:  4\n",
      "The value of A is:  6\n",
      "The value of A is:  10\n",
      "The value of A is:  -2\n"
     ]
    }
   ],
   "source": [
    "A = 4\n",
    "B = 6\n",
    "C = A+B\n",
    "D = A-B\n",
    "print('The value of A is: ',A)\n",
    "print('The value of A is: ',B)\n",
    "print('The value of A is: ',C)\n",
    "print('The value of A is: ',D)"
   ]
  },
  {
   "cell_type": "code",
   "execution_count": 3,
   "id": "10a702f6",
   "metadata": {},
   "outputs": [
    {
     "name": "stdout",
     "output_type": "stream",
     "text": [
      "2.5\n",
      "2\n"
     ]
    }
   ],
   "source": [
    "X = 5/2\n",
    "print(X)\n",
    "Y = (int)(5/2) #Called type casting, para hacerla un valor entero\n",
    "print(Y)"
   ]
  },
  {
   "cell_type": "code",
   "execution_count": 4,
   "id": "f45138c7",
   "metadata": {},
   "outputs": [
    {
     "name": "stdout",
     "output_type": "stream",
     "text": [
      "9.5\n"
     ]
    }
   ],
   "source": [
    "v1 = 4\n",
    "v2 = 5.5\n",
    "v3 = v1 + v2\n",
    "print(v3)"
   ]
  },
  {
   "cell_type": "code",
   "execution_count": 9,
   "id": "0ebf2d9f",
   "metadata": {},
   "outputs": [
    {
     "ename": "IndentationError",
     "evalue": "unindent does not match any outer indentation level (<tokenize>, line 3)",
     "output_type": "error",
     "traceback": [
      "\u001b[1;36m  File \u001b[1;32m<tokenize>:3\u001b[1;36m\u001b[0m\n\u001b[1;33m    V3 = v1 + v2\u001b[0m\n\u001b[1;37m    ^\u001b[0m\n\u001b[1;31mIndentationError\u001b[0m\u001b[1;31m:\u001b[0m unindent does not match any outer indentation level\n"
     ]
    }
   ],
   "source": [
    "V1 = 4\n",
    "      V2 = 5.5\n",
    "   V3 = v1 + v2\n",
    "print(V3)"
   ]
  },
  {
   "cell_type": "code",
   "execution_count": 10,
   "id": "ad36626b",
   "metadata": {},
   "outputs": [
    {
     "name": "stdout",
     "output_type": "stream",
     "text": [
      "123\n"
     ]
    }
   ],
   "source": [
    "x = '1'\n",
    "y = '2'\n",
    "z = '3'\n",
    "Ans = x + y + z\n",
    "print(Ans)"
   ]
  },
  {
   "cell_type": "code",
   "execution_count": 11,
   "id": "7b78cac6",
   "metadata": {},
   "outputs": [
    {
     "name": "stdout",
     "output_type": "stream",
     "text": [
      "29\n"
     ]
    }
   ],
   "source": [
    "Birth_Year = 1996 #Excercise 5\n",
    "Current_Year = 2025\n",
    "Age = Current_Year - Birth_Year\n",
    "print(Age)"
   ]
  },
  {
   "cell_type": "code",
   "execution_count": 14,
   "id": "da312535",
   "metadata": {},
   "outputs": [
    {
     "name": "stdout",
     "output_type": "stream",
     "text": [
      "My name is CALEB\n",
      "My country is colombia\n",
      "My major is mAJOR\n"
     ]
    }
   ],
   "source": [
    "#Excercise 6\n",
    "my_name = 'Caleb'\n",
    "my_country = 'Colombia'\n",
    "my_major = 'Major'\n",
    "\n",
    "AP = my_name.upper()\n",
    "LC = my_country.lower()\n",
    "Mj = my_major.swapcase()\n",
    "\n",
    "print('My name is',AP)\n",
    "print('My country is',LC)\n",
    "print('My major is',Mj)"
   ]
  },
  {
   "cell_type": "code",
   "execution_count": 13,
   "id": "201d40f2",
   "metadata": {},
   "outputs": [
    {
     "name": "stdout",
     "output_type": "stream",
     "text": [
      "26\n",
      "12\n"
     ]
    }
   ],
   "source": [
    "#Excercise 7\n",
    "P = 8\n",
    "Q = 5\n",
    "D = (P + Q)*2\n",
    "K = (P - Q)*4\n",
    "\n",
    "print(D)\n",
    "print(K)"
   ]
  },
  {
   "cell_type": "code",
   "execution_count": 15,
   "id": "f7d11c5b",
   "metadata": {},
   "outputs": [
    {
     "name": "stdout",
     "output_type": "stream",
     "text": [
      "This is my 2nd Tutorial in MDS601\n",
      "The length is  33\n",
      "The 6th value is  i\n",
      "The last value is  1\n",
      "tHIS IS MY 2ND tUTORIAL IN mds601\n"
     ]
    }
   ],
   "source": [
    "#Excercise 8\n",
    "text = 'This is my 2nd Tutorial in MDS601'\n",
    "\n",
    "print(text)\n",
    "print('The length is ',len(text))\n",
    "print('The 6th value is ',text[5])\n",
    "print('The last value is ',text[len(text)-1])\n",
    "\n",
    "updated_text = text.swapcase()\n",
    "print(updated_text)"
   ]
  },
  {
   "cell_type": "code",
   "execution_count": 18,
   "id": "b46f6c32",
   "metadata": {},
   "outputs": [
    {
     "name": "stdout",
     "output_type": "stream",
     "text": [
      "My full name is:  CalebAriza\n",
      "My full name is:  Caleb Ariza\n"
     ]
    }
   ],
   "source": [
    "#Excercise 9\n",
    "FName = 'Caleb'\n",
    "LName = 'Ariza'\n",
    "full_name = FName + LName\n",
    "print('My full name is: ',full_name)\n",
    "\n",
    "#Mi metodo para adherir un espacio\n",
    "esp = \" \"\n",
    "\n",
    "full_name1 = FName + esp + LName\n",
    "print('My full name is: ',full_name1)"
   ]
  },
  {
   "cell_type": "code",
   "execution_count": null,
   "id": "7c867be6",
   "metadata": {},
   "outputs": [],
   "source": []
  },
  {
   "cell_type": "code",
   "execution_count": 24,
   "id": "a5815d5d",
   "metadata": {},
   "outputs": [
    {
     "name": "stdout",
     "output_type": "stream",
     "text": [
      "[20, 15, 25, 30, 54, 62, 35]\n",
      "[20, 15, 25, 30, 54, 62, 35, 90, 95]\n",
      "[20, 15, -10, 25, 30, 54, 62, 35, 90, 95]\n",
      "sorted list:  [-10, 15, 20, 25, 30, 35, 54, 62, 90, 95]\n",
      "original list:  [20, 15, -10, 25, 30, 54, 62, 35, 90, 95]\n"
     ]
    }
   ],
   "source": [
    "#Excercise 10\n",
    "my_list = [10, 15, 25, 30, 54, 62, 80]\n",
    "my_list[0] = 20\n",
    "\n",
    "suma = my_list[0] + my_list[1]\n",
    "\n",
    "my_list[len(my_list)-1] = suma\n",
    "print(my_list)\n",
    "\n",
    "my_list.extend([90,95])\n",
    "print(my_list)\n",
    "\n",
    "my_list.insert(2,-10)\n",
    "print(my_list)\n",
    "\n",
    "sorted_list = sorted(my_list)\n",
    "print('sorted list: ',sorted_list)\n",
    "\n",
    "print('original list: ',my_list)\n"
   ]
  },
  {
   "cell_type": "code",
   "execution_count": 25,
   "id": "241a2fcd",
   "metadata": {},
   "outputs": [
    {
     "name": "stdout",
     "output_type": "stream",
     "text": [
      "5\n",
      "7\n",
      "4\n"
     ]
    }
   ],
   "source": [
    "#Excercise 11\n",
    "my_tuple = (5, 4, 8, 6, 7)\n",
    "print(len(my_tuple))\n",
    "print(my_tuple[len(my_tuple)-1])\n",
    "print(my_tuple[1])"
   ]
  },
  {
   "cell_type": "code",
   "execution_count": 26,
   "id": "282bbded",
   "metadata": {},
   "outputs": [
    {
     "name": "stdout",
     "output_type": "stream",
     "text": [
      "{'name1': 20, 'name2': 21, 'name3': 22, 'name4': 23, 'name5': 25}\n",
      "dict_keys(['name1', 'name2', 'name3', 'name4', 'name5'])\n",
      "dict_values([20, 21, 22, 23, 25])\n",
      "22\n"
     ]
    }
   ],
   "source": [
    "#Excercise 12\n",
    "my_data = {'name1':20,'name2':21,'name3':22,'name4':23,'name5':25,}\n",
    "\n",
    "print(my_data)\n",
    "print(my_data.keys())\n",
    "print(my_data.values())\n",
    "print(my_data['name3'])"
   ]
  },
  {
   "cell_type": "code",
   "execution_count": null,
   "id": "9ecd6a92",
   "metadata": {},
   "outputs": [],
   "source": []
  }
 ],
 "metadata": {
  "kernelspec": {
   "display_name": "Python 3 (ipykernel)",
   "language": "python",
   "name": "python3"
  },
  "language_info": {
   "codemirror_mode": {
    "name": "ipython",
    "version": 3
   },
   "file_extension": ".py",
   "mimetype": "text/x-python",
   "name": "python",
   "nbconvert_exporter": "python",
   "pygments_lexer": "ipython3",
   "version": "3.10.9"
  }
 },
 "nbformat": 4,
 "nbformat_minor": 5
}
